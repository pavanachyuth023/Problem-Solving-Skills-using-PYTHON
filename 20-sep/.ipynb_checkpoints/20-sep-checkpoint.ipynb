{
 "cells": [
  {
   "cell_type": "markdown",
   "metadata": {},
   "source": [
    "### Task"
   ]
  },
  {
   "cell_type": "code",
   "execution_count": 34,
   "metadata": {},
   "outputs": [],
   "source": [
    "def prime_or_not(a):\n",
    "    c=0\n",
    "    for i in range(1,a+1):\n",
    "        if a%i==0:\n",
    "            c=c+1\n",
    "    if c==2:\n",
    "        print(\"prime\")\n",
    "    else:\n",
    "         print(\"not prime\")\n",
    "    "
   ]
  },
  {
   "cell_type": "code",
   "execution_count": 35,
   "metadata": {},
   "outputs": [
    {
     "name": "stdout",
     "output_type": "stream",
     "text": [
      "3\n",
      "prime\n"
     ]
    }
   ],
   "source": [
    "k = int(input())\n",
    "prime_or_not(k)"
   ]
  },
  {
   "cell_type": "code",
   "execution_count": null,
   "metadata": {},
   "outputs": [],
   "source": []
  },
  {
   "cell_type": "code",
   "execution_count": 36,
   "metadata": {},
   "outputs": [],
   "source": [
    "def fac_count(a):\n",
    "    c = 0\n",
    "    for i in range(1,a+1):\n",
    "        if a%i==0:\n",
    "            c=c+1\n",
    "    return c\n",
    "        "
   ]
  },
  {
   "cell_type": "code",
   "execution_count": 37,
   "metadata": {},
   "outputs": [],
   "source": [
    "def isprime(a):\n",
    "    fc = fac_count(a)\n",
    "    if fc==2:\n",
    "        return True\n",
    "    return False\n"
   ]
  },
  {
   "cell_type": "code",
   "execution_count": 39,
   "metadata": {},
   "outputs": [
    {
     "name": "stdout",
     "output_type": "stream",
     "text": [
      "3\n",
      "is prime\n"
     ]
    }
   ],
   "source": [
    "i = int(input())\n",
    "if isprime(i):\n",
    "    print(\"is prime\")\n",
    "else:\n",
    "    print(\"not prime\")"
   ]
  },
  {
   "cell_type": "code",
   "execution_count": 44,
   "metadata": {},
   "outputs": [],
   "source": [
    "\n",
    "def prime_range(lb,ub):\n",
    "    for i in range(1,100+1):\n",
    "        if isprime(i):\n",
    "            print(i,end = ' ')\n",
    "            \n"
   ]
  },
  {
   "cell_type": "code",
   "execution_count": 43,
   "metadata": {},
   "outputs": [],
   "source": [
    "def prime(n):\n",
    "    if n<2:\n",
    "        print(\"not a prime\")\n",
    "    for i in range(2,n//2):\n",
    "        if n%i==0:\n",
    "            return False\n",
    "        return True\n",
    "    \n",
    "prime(3)    "
   ]
  },
  {
   "cell_type": "code",
   "execution_count": null,
   "metadata": {},
   "outputs": [],
   "source": []
  }
 ],
 "metadata": {
  "kernelspec": {
   "display_name": "Python 3",
   "language": "python",
   "name": "python3"
  },
  "language_info": {
   "codemirror_mode": {
    "name": "ipython",
    "version": 3
   },
   "file_extension": ".py",
   "mimetype": "text/x-python",
   "name": "python",
   "nbconvert_exporter": "python",
   "pygments_lexer": "ipython3",
   "version": "3.7.3"
  }
 },
 "nbformat": 4,
 "nbformat_minor": 2
}
