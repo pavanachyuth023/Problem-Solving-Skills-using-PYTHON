{
 "cells": [
  {
   "cell_type": "markdown",
   "metadata": {},
   "source": [
    "# Markdown Basics:\n",
    "  * **Bold**\n",
    "  * *Italic*\n",
    "  * ***BoldItalic***\n",
    "  * Normal text\n",
    "    * text1\n",
    "    * text2"
   ]
  },
  {
   "cell_type": "markdown",
   "metadata": {},
   "source": [
    "<img src ='krishna.png'>"
   ]
  },
  {
   "cell_type": "code",
   "execution_count": 3,
   "metadata": {},
   "outputs": [
    {
     "data": {
      "text/plain": [
       "1"
      ]
     },
     "execution_count": 3,
     "metadata": {},
     "output_type": "execute_result"
    }
   ],
   "source": [
    "i = 1\n",
    "i"
   ]
  },
  {
   "cell_type": "code",
   "execution_count": 2,
   "metadata": {},
   "outputs": [
    {
     "name": "stdout",
     "output_type": "stream",
     "text": [
      "1 2 3\n"
     ]
    }
   ],
   "source": [
    "i,j,k=1,2,3\n",
    "print(i,j,k)"
   ]
  },
  {
   "cell_type": "code",
   "execution_count": 3,
   "metadata": {},
   "outputs": [],
   "source": [
    "j = k\n"
   ]
  },
  {
   "cell_type": "code",
   "execution_count": 4,
   "metadata": {},
   "outputs": [
    {
     "data": {
      "text/plain": [
       "3"
      ]
     },
     "execution_count": 4,
     "metadata": {},
     "output_type": "execute_result"
    }
   ],
   "source": [
    "j"
   ]
  },
  {
   "cell_type": "code",
   "execution_count": 5,
   "metadata": {},
   "outputs": [
    {
     "data": {
      "text/plain": [
       "3"
      ]
     },
     "execution_count": 5,
     "metadata": {},
     "output_type": "execute_result"
    }
   ],
   "source": [
    "j"
   ]
  },
  {
   "cell_type": "code",
   "execution_count": 14,
   "metadata": {},
   "outputs": [
    {
     "name": "stdout",
     "output_type": "stream",
     "text": [
      "hello world\n"
     ]
    }
   ],
   "source": [
    "a,b = 'hello','world'\n",
    "print(a,b)"
   ]
  },
  {
   "cell_type": "markdown",
   "metadata": {},
   "source": [
    "## Aritematic operation in python\n",
    "    * +\n",
    "    * - \n",
    "    * *\n",
    "    * %\n",
    "    * /\n",
    "    * **"
   ]
  },
  {
   "cell_type": "code",
   "execution_count": 16,
   "metadata": {},
   "outputs": [
    {
     "data": {
      "text/plain": [
       "5"
      ]
     },
     "execution_count": 16,
     "metadata": {},
     "output_type": "execute_result"
    }
   ],
   "source": [
    "2+3"
   ]
  },
  {
   "cell_type": "code",
   "execution_count": 1,
   "metadata": {},
   "outputs": [
    {
     "data": {
      "text/plain": [
       "9765625"
      ]
     },
     "execution_count": 1,
     "metadata": {},
     "output_type": "execute_result"
    }
   ],
   "source": [
    "25**5"
   ]
  },
  {
   "cell_type": "code",
   "execution_count": 4,
   "metadata": {
    "scrolled": true
   },
   "outputs": [
    {
     "name": "stdout",
     "output_type": "stream",
     "text": [
      "addition of a and b 361\n"
     ]
    }
   ],
   "source": [
    "a = 5\n",
    "b = 356\n",
    "c=a+b\n",
    "print(\"addition of a and b\",c)"
   ]
  },
  {
   "cell_type": "code",
   "execution_count": 5,
   "metadata": {},
   "outputs": [
    {
     "name": "stdout",
     "output_type": "stream",
     "text": [
      "subtraction of a and b 250\n"
     ]
    }
   ],
   "source": [
    "a = 255\n",
    "b = 5\n",
    "c=a-b\n",
    "print(\"subtraction of a and b\",c)\n"
   ]
  },
  {
   "cell_type": "code",
   "execution_count": 6,
   "metadata": {},
   "outputs": [
    {
     "name": "stdout",
     "output_type": "stream",
     "text": [
      "multiplication of a and b 1780\n"
     ]
    }
   ],
   "source": [
    "a = 5\n",
    "b = 356\n",
    "c=a*b\n",
    "print(\"multiplication of a and b\",c)"
   ]
  },
  {
   "cell_type": "code",
   "execution_count": 16,
   "metadata": {},
   "outputs": [
    {
     "name": "stdout",
     "output_type": "stream",
     "text": [
      "mod div of a and b 1\n"
     ]
    }
   ],
   "source": [
    "a = 15\n",
    "b = 2\n",
    "c=a%b\n",
    "print(\"mod div of a and b\",c)"
   ]
  },
  {
   "cell_type": "code",
   "execution_count": 18,
   "metadata": {},
   "outputs": [
    {
     "name": "stdout",
     "output_type": "stream",
     "text": [
      "divison of a and b 511.0\n"
     ]
    }
   ],
   "source": [
    "a = 2555\n",
    "b = 5\n",
    "c=a/b\n",
    "print(\"divison of a and b\",c)"
   ]
  },
  {
   "cell_type": "code",
   "execution_count": 9,
   "metadata": {},
   "outputs": [
    {
     "name": "stdout",
     "output_type": "stream",
     "text": [
      "power of a and b 2910383045673370361328125\n"
     ]
    }
   ],
   "source": [
    "a = 5\n",
    "b = 35\n",
    "c=a**b\n",
    "print(\"power of a and b\",c)"
   ]
  },
  {
   "cell_type": "markdown",
   "metadata": {},
   "source": [
    "## Indentation"
   ]
  },
  {
   "cell_type": "code",
   "execution_count": 19,
   "metadata": {},
   "outputs": [
    {
     "name": "stdout",
     "output_type": "stream",
     "text": [
      "else executed\n"
     ]
    }
   ],
   "source": [
    "i = 10\n",
    "if i<5:\n",
    "    print(\"if statement excuted\")\n",
    "elif i!=10:\n",
    "    print(\"else if is executed\")\n",
    "else:\n",
    "    print(\"else executed\")"
   ]
  },
  {
   "cell_type": "code",
   "execution_count": 2,
   "metadata": {
    "scrolled": false
   },
   "outputs": [
    {
     "name": "stdout",
     "output_type": "stream",
     "text": [
      "enter integer value120\n",
      "130\n"
     ]
    }
   ],
   "source": [
    "k = int(input(\"enter integer value\"))\n",
    "print(k+10)"
   ]
  },
  {
   "cell_type": "code",
   "execution_count": 6,
   "metadata": {},
   "outputs": [
    {
     "name": "stdout",
     "output_type": "stream",
     "text": [
      "enter integer value-25\n",
      "enter value is negative\n"
     ]
    }
   ],
   "source": [
    "i =int(input(\"enter integer value\"))\n",
    "if i>0:\n",
    "    print(\"enter value is positive\")\n",
    "else:\n",
    "    print(\"enter value is negative\")"
   ]
  },
  {
   "cell_type": "markdown",
   "metadata": {},
   "source": [
    "## Strings"
   ]
  },
  {
   "cell_type": "markdown",
   "metadata": {},
   "source": [
    "## String indexing"
   ]
  },
  {
   "cell_type": "code",
   "execution_count": 37,
   "metadata": {},
   "outputs": [
    {
     "name": "stdout",
     "output_type": "stream",
     "text": [
      "H\n",
      " \n",
      "D\n",
      "HELLO\n",
      "HELLO WORLD\n",
      "!\n",
      "H\n",
      "WORLD!\n",
      "!DLROW OLLEH\n",
      "!LO LE\n",
      "HLOWRD\n",
      "HELLO WORLD!\n",
      "HELLO WORL\n",
      "D!\n",
      "D!\n",
      "LO WORL\n",
      "LO WORL\n",
      "HLOWRD\n"
     ]
    }
   ],
   "source": [
    "s = 'HELLO WORLD!'\n",
    "print(s[0])\n",
    "print(s[5])\n",
    "print(s[10])\n",
    "print(s[0:5])\n",
    "print(s[0:11])\n",
    "print(s[-1])\n",
    "print(s[-12])\n",
    "print(s[-6:])\n",
    "print(s[::-1])\n",
    "print(s[::-2])     \n",
    "print(s[::2])\n",
    "print(s[::1])\n",
    "print(s[:-2])\n",
    "print(s[-2:])\n",
    "print(s[10:])\n",
    "print(s[-9:-2])\n",
    "print(s[3:10])\n",
    "print(s[::2])"
   ]
  },
  {
   "cell_type": "markdown",
   "metadata": {},
   "source": [
    "## String Methods"
   ]
  },
  {
   "cell_type": "code",
   "execution_count": 38,
   "metadata": {},
   "outputs": [
    {
     "data": {
      "text/plain": [
       "['__add__',\n",
       " '__class__',\n",
       " '__contains__',\n",
       " '__delattr__',\n",
       " '__dir__',\n",
       " '__doc__',\n",
       " '__eq__',\n",
       " '__format__',\n",
       " '__ge__',\n",
       " '__getattribute__',\n",
       " '__getitem__',\n",
       " '__getnewargs__',\n",
       " '__gt__',\n",
       " '__hash__',\n",
       " '__init__',\n",
       " '__init_subclass__',\n",
       " '__iter__',\n",
       " '__le__',\n",
       " '__len__',\n",
       " '__lt__',\n",
       " '__mod__',\n",
       " '__mul__',\n",
       " '__ne__',\n",
       " '__new__',\n",
       " '__reduce__',\n",
       " '__reduce_ex__',\n",
       " '__repr__',\n",
       " '__rmod__',\n",
       " '__rmul__',\n",
       " '__setattr__',\n",
       " '__sizeof__',\n",
       " '__str__',\n",
       " '__subclasshook__',\n",
       " 'capitalize',\n",
       " 'casefold',\n",
       " 'center',\n",
       " 'count',\n",
       " 'encode',\n",
       " 'endswith',\n",
       " 'expandtabs',\n",
       " 'find',\n",
       " 'format',\n",
       " 'format_map',\n",
       " 'index',\n",
       " 'isalnum',\n",
       " 'isalpha',\n",
       " 'isascii',\n",
       " 'isdecimal',\n",
       " 'isdigit',\n",
       " 'isidentifier',\n",
       " 'islower',\n",
       " 'isnumeric',\n",
       " 'isprintable',\n",
       " 'isspace',\n",
       " 'istitle',\n",
       " 'isupper',\n",
       " 'join',\n",
       " 'ljust',\n",
       " 'lower',\n",
       " 'lstrip',\n",
       " 'maketrans',\n",
       " 'partition',\n",
       " 'replace',\n",
       " 'rfind',\n",
       " 'rindex',\n",
       " 'rjust',\n",
       " 'rpartition',\n",
       " 'rsplit',\n",
       " 'rstrip',\n",
       " 'split',\n",
       " 'splitlines',\n",
       " 'startswith',\n",
       " 'strip',\n",
       " 'swapcase',\n",
       " 'title',\n",
       " 'translate',\n",
       " 'upper',\n",
       " 'zfill']"
      ]
     },
     "execution_count": 38,
     "metadata": {},
     "output_type": "execute_result"
    }
   ],
   "source": [
    "dir(str)"
   ]
  },
  {
   "cell_type": "code",
   "execution_count": 39,
   "metadata": {},
   "outputs": [
    {
     "name": "stdout",
     "output_type": "stream",
     "text": [
      "['Hello', 'world!']\n"
     ]
    }
   ],
   "source": [
    "s1 = 'Hello world!'\n",
    "print(s1.split())"
   ]
  },
  {
   "cell_type": "code",
   "execution_count": 41,
   "metadata": {},
   "outputs": [
    {
     "name": "stdout",
     "output_type": "stream",
     "text": [
      "['Hello', 'world!']\n",
      "['Hello', 'world!']\n",
      "Hello\n",
      "world!\n"
     ]
    }
   ],
   "source": [
    "s1 = 'Hello world!'\n",
    "l1 = s1.split()\n",
    "print(s1.split())\n",
    "print(l1)\n",
    "print(l1[0])\n",
    "print(l1[-1])"
   ]
  },
  {
   "cell_type": "code",
   "execution_count": 44,
   "metadata": {},
   "outputs": [
    {
     "name": "stdout",
     "output_type": "stream",
     "text": [
      "['check', 'if', 'a', 'given', 'string', 'is', 'palindrome', 'or', 'not']\n"
     ]
    }
   ],
   "source": [
    "s2='check if a given string is palindrome or not'\n",
    "l2=s2.split()\n",
    "print(l2)"
   ]
  },
  {
   "cell_type": "code",
   "execution_count": 1,
   "metadata": {},
   "outputs": [
    {
     "name": "stdout",
     "output_type": "stream",
     "text": [
      "Enter stringproblem solving using python\n",
      "['problem', 'solving', 'using', 'python']\n"
     ]
    }
   ],
   "source": [
    "s3 = input(\"Enter string\")\n",
    "l3 = s3.split()\n",
    "print(l3)"
   ]
  },
  {
   "cell_type": "code",
   "execution_count": 2,
   "metadata": {},
   "outputs": [
    {
     "name": "stdout",
     "output_type": "stream",
     "text": [
      "Enter stringproblem@solving@using@python\n",
      "['problem', 'solving', 'using', 'python']\n"
     ]
    }
   ],
   "source": [
    "s3 = input(\"Enter string\")\n",
    "l3 = s3.split('@')\n",
    "print(l3)"
   ]
  },
  {
   "cell_type": "code",
   "execution_count": 3,
   "metadata": {},
   "outputs": [
    {
     "name": "stdout",
     "output_type": "stream",
     "text": [
      "Enter stringpavanachyuth023@gmail.com\n",
      "['pavanachyuth023@gmail', 'com']\n"
     ]
    }
   ],
   "source": [
    "s3 = input(\"Enter string\")\n",
    "l3 = s3.split('.')\n",
    "print(l3)"
   ]
  },
  {
   "cell_type": "code",
   "execution_count": 4,
   "metadata": {
    "scrolled": true
   },
   "outputs": [
    {
     "name": "stdout",
     "output_type": "stream",
     "text": [
      "['pavanachyuth023@gmail', 'com']\n"
     ]
    }
   ],
   "source": [
    "print(l3)"
   ]
  },
  {
   "cell_type": "code",
   "execution_count": 9,
   "metadata": {},
   "outputs": [
    {
     "name": "stdout",
     "output_type": "stream",
     "text": [
      "pavanachyuth023@gmail.com\n"
     ]
    }
   ],
   "source": [
    "l4 = '.'.join(l3)\n",
    "print(l4)"
   ]
  },
  {
   "cell_type": "code",
   "execution_count": 12,
   "metadata": {},
   "outputs": [
    {
     "name": "stdout",
     "output_type": "stream",
     "text": [
      "['check', 'if', 'a', 'given', 'string', 'is', 'palindrome', 'or', 'not']\n",
      "check@#if@#a@#given@#string@#is@#palindrome@#or@#not\n"
     ]
    }
   ],
   "source": [
    "s1 = 'check if a given string is palindrome or not'\n",
    "l1 = s1.split()\n",
    "j1 = '@#'.join(l1)\n",
    "print(l1)\n",
    "print(j1)"
   ]
  },
  {
   "cell_type": "markdown",
   "metadata": {},
   "source": [
    "* islower()"
   ]
  },
  {
   "cell_type": "code",
   "execution_count": null,
   "metadata": {},
   "outputs": [],
   "source": []
  }
 ],
 "metadata": {
  "kernelspec": {
   "display_name": "Python 3",
   "language": "python",
   "name": "python3"
  },
  "language_info": {
   "codemirror_mode": {
    "name": "ipython",
    "version": 3
   },
   "file_extension": ".py",
   "mimetype": "text/x-python",
   "name": "python",
   "nbconvert_exporter": "python",
   "pygments_lexer": "ipython3",
   "version": "3.7.3"
  }
 },
 "nbformat": 4,
 "nbformat_minor": 2
}
